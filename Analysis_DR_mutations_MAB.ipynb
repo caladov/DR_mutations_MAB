{
 "cells": [
  {
   "cell_type": "markdown",
   "id": "93d129d3",
   "metadata": {},
   "source": [
    "##  Analysis of Antimicrobial Resistance Mutations in *M. abscessus*\n",
    "\n",
    "Full publication name: Comparison of Antimicrobial Resistance Mutations and in vitro Susceptibility in *Mycobacterium abscessus* Isolates from People with Cystic Fibrosis"
   ]
  },
  {
   "cell_type": "markdown",
   "id": "1ebfe594",
   "metadata": {},
   "source": [
    "## 1) Loading Datasets"
   ]
  },
  {
   "cell_type": "code",
   "execution_count": 1,
   "id": "7d6d2f6f",
   "metadata": {},
   "outputs": [],
   "source": [
    "import pandas as pd\n",
    "import numpy as np"
   ]
  },
  {
   "cell_type": "code",
   "execution_count": 2,
   "id": "9d146638",
   "metadata": {},
   "outputs": [
    {
     "name": "stdout",
     "output_type": "stream",
     "text": [
      "<class 'pandas.core.frame.DataFrame'>\n",
      "RangeIndex: 225 entries, 0 to 224\n",
      "Data columns (total 13 columns):\n",
      " #   Column              Non-Null Count  Dtype \n",
      "---  ------              --------------  ----- \n",
      " 0   Isolate             225 non-null    object\n",
      " 1   Sample_ASID         225 non-null    object\n",
      " 2   Patient_ASID        225 non-null    object\n",
      " 3   WGS_Identification  225 non-null    object\n",
      " 4   State               225 non-null    object\n",
      " 5   MIC_AMK             225 non-null    object\n",
      " 6   MIC_CLR             225 non-null    object\n",
      " 7   MIC_CLR_14          45 non-null     object\n",
      " 8   16S_1463772         225 non-null    object\n",
      " 9   23S_1466477         225 non-null    object\n",
      " 10  23S_1466478         225 non-null    object\n",
      " 11  erm_T28C_2345982    225 non-null    object\n",
      " 12  Clone               225 non-null    object\n",
      "dtypes: object(13)\n",
      "memory usage: 23.0+ KB\n"
     ]
    }
   ],
   "source": [
    "# Isolate Level Dataset\n",
    "# Colleciton dates were previously sorted\n",
    "df = pd.read_excel('MAB_MIC_DR_mutations_DCC.xlsx')\n",
    "df.info()"
   ]
  },
  {
   "cell_type": "markdown",
   "id": "63a67f83",
   "metadata": {},
   "source": [
    "## 2) Data Wrangling"
   ]
  },
  {
   "cell_type": "markdown",
   "id": "fbdb1ded",
   "metadata": {},
   "source": [
    "### 2.1) Setting MIC values as categories "
   ]
  },
  {
   "cell_type": "code",
   "execution_count": 3,
   "id": "17beba0a",
   "metadata": {},
   "outputs": [
    {
     "data": {
      "text/plain": [
       "≤8.0    104\n",
       "16       84\n",
       "32       10\n",
       "64        0\n",
       ">64      27\n",
       "Name: MIC_AMK, dtype: int64"
      ]
     },
     "execution_count": 3,
     "metadata": {},
     "output_type": "execute_result"
    }
   ],
   "source": [
    "amk_sorted = ['≤8.0', '16', '32', '64', '>64']\n",
    "df['MIC_AMK'] = pd.Categorical(df['MIC_AMK'], categories=amk_sorted)\n",
    "df['MIC_AMK'].value_counts().sort_index()"
   ]
  },
  {
   "cell_type": "code",
   "execution_count": 4,
   "id": "84e7c563",
   "metadata": {},
   "outputs": [
    {
     "data": {
      "text/plain": [
       "['≤8.0', '16', '>64', '32']\n",
       "Categories (5, object): ['≤8.0', '16', '32', '64', '>64']"
      ]
     },
     "execution_count": 4,
     "metadata": {},
     "output_type": "execute_result"
    }
   ],
   "source": [
    "df['MIC_AMK'].unique()"
   ]
  },
  {
   "cell_type": "code",
   "execution_count": 5,
   "id": "9a78378b",
   "metadata": {},
   "outputs": [
    {
     "data": {
      "text/plain": [
       "array(['≤0.25', '0.5', '1', '4', '2', '>32', '8', '16'], dtype=object)"
      ]
     },
     "execution_count": 5,
     "metadata": {},
     "output_type": "execute_result"
    }
   ],
   "source": [
    "df['MIC_CLR'].unique()"
   ]
  },
  {
   "cell_type": "code",
   "execution_count": 6,
   "id": "b4c5a76b",
   "metadata": {},
   "outputs": [
    {
     "data": {
      "text/plain": [
       "≤0.25    88\n",
       "0.5      35\n",
       "1        35\n",
       "2        32\n",
       "4        19\n",
       "8         1\n",
       "16        1\n",
       ">32      14\n",
       "Name: MIC_CLR, dtype: int64"
      ]
     },
     "execution_count": 6,
     "metadata": {},
     "output_type": "execute_result"
    }
   ],
   "source": [
    "clr_sorted = ['≤0.25', '0.5', '1', '2', '4', '8', '16', '>32']\n",
    "df['MIC_CLR'] = pd.Categorical(df['MIC_CLR'], categories=clr_sorted)\n",
    "df['MIC_CLR'].value_counts().sort_index()"
   ]
  },
  {
   "cell_type": "markdown",
   "id": "da1f1fac",
   "metadata": {},
   "source": [
    "### 2.2) Adding CLSI interpretations for rapidly growing mycobacteria (M62 1st edition)"
   ]
  },
  {
   "cell_type": "code",
   "execution_count": 7,
   "id": "8a9dbf07",
   "metadata": {},
   "outputs": [
    {
     "data": {
      "text/plain": [
       "S    188\n",
       "I     10\n",
       "R     27\n",
       "Name: AMK_int, dtype: int64"
      ]
     },
     "execution_count": 7,
     "metadata": {},
     "output_type": "execute_result"
    }
   ],
   "source": [
    "amk_int = {'≤8.0': 'S', '16': 'S', '>64': 'R', '32': 'I'}\n",
    "int_sorted = ['S', 'I', 'R']\n",
    "df['AMK_int'] = df['MIC_AMK'].apply(amk_int.get)\n",
    "df['AMK_int'] = pd.Categorical(df['AMK_int'], categories=int_sorted)\n",
    "df['AMK_int'].value_counts().sort_index()"
   ]
  },
  {
   "cell_type": "code",
   "execution_count": 8,
   "id": "83846606",
   "metadata": {},
   "outputs": [
    {
     "data": {
      "text/plain": [
       "S    190\n",
       "I     19\n",
       "R     16\n",
       "Name: CLR_int, dtype: int64"
      ]
     },
     "execution_count": 8,
     "metadata": {},
     "output_type": "execute_result"
    }
   ],
   "source": [
    "clr_int = {'≤0.25': 'S', '0.5': 'S', '1': 'S', \n",
    "           '4': 'I', '2': 'S', '32':'R', '>32': 'R', '8': 'R', '16': 'R'}\n",
    "df['CLR_int'] = df['MIC_CLR'].apply(clr_int.get)\n",
    "df['CLR_int'] = pd.Categorical(df['CLR_int'], categories=int_sorted)\n",
    "df['CLR_int'].value_counts().sort_index()"
   ]
  },
  {
   "cell_type": "code",
   "execution_count": 9,
   "id": "9861c469",
   "metadata": {},
   "outputs": [
    {
     "data": {
      "text/plain": [
       "array([nan, '16', '≤0.25', '>32', '32'], dtype=object)"
      ]
     },
     "execution_count": 9,
     "metadata": {},
     "output_type": "execute_result"
    }
   ],
   "source": [
    "df['MIC_CLR_14'].unique()"
   ]
  },
  {
   "cell_type": "code",
   "execution_count": 10,
   "id": "be735e26",
   "metadata": {},
   "outputs": [
    {
     "data": {
      "text/plain": [
       "S    13\n",
       "I     0\n",
       "R    32\n",
       "Name: CLR_14_int, dtype: int64"
      ]
     },
     "execution_count": 10,
     "metadata": {},
     "output_type": "execute_result"
    }
   ],
   "source": [
    "df['CLR_14_int'] = df['MIC_CLR_14'].apply(clr_int.get)\n",
    "df['CLR_14_int'] = pd.Categorical(df['CLR_14_int'], categories=int_sorted)\n",
    "df['CLR_14_int'].value_counts().sort_index()"
   ]
  },
  {
   "cell_type": "markdown",
   "id": "99973528",
   "metadata": {},
   "source": [
    "### 2.3) Renaming gene columns "
   ]
  },
  {
   "cell_type": "code",
   "execution_count": 11,
   "id": "2ba8a57d",
   "metadata": {},
   "outputs": [
    {
     "data": {
      "text/plain": [
       "Index(['Isolate', 'Sample_ASID', 'Patient_ASID', 'WGS_Identification', 'State',\n",
       "       'MIC_AMK', 'MIC_CLR', 'MIC_CLR_14', '16S_1463772', '23S_1466477',\n",
       "       '23S_1466478', 'erm_T28C_2345982', 'Clone', 'AMK_int', 'CLR_int',\n",
       "       'CLR_14_int'],\n",
       "      dtype='object')"
      ]
     },
     "execution_count": 11,
     "metadata": {},
     "output_type": "execute_result"
    }
   ],
   "source": [
    "df.columns"
   ]
  },
  {
   "cell_type": "code",
   "execution_count": 12,
   "id": "20b666b8",
   "metadata": {},
   "outputs": [
    {
     "name": "stdout",
     "output_type": "stream",
     "text": [
      "<class 'pandas.core.frame.DataFrame'>\n",
      "RangeIndex: 225 entries, 0 to 224\n",
      "Data columns (total 16 columns):\n",
      " #   Column              Non-Null Count  Dtype   \n",
      "---  ------              --------------  -----   \n",
      " 0   Isolate             225 non-null    object  \n",
      " 1   Sample_ASID         225 non-null    object  \n",
      " 2   Patient_ASID        225 non-null    object  \n",
      " 3   WGS_Identification  225 non-null    object  \n",
      " 4   State               225 non-null    object  \n",
      " 5   MIC_AMK             225 non-null    category\n",
      " 6   MIC_CLR             225 non-null    category\n",
      " 7   MIC_CLR_14          45 non-null     object  \n",
      " 8   rrs_1408            225 non-null    object  \n",
      " 9   rrl_2058            225 non-null    object  \n",
      " 10  rrl_2059            225 non-null    object  \n",
      " 11  erm41_28            225 non-null    object  \n",
      " 12  Clone               225 non-null    object  \n",
      " 13  AMK_int             225 non-null    category\n",
      " 14  CLR_int             225 non-null    category\n",
      " 15  CLR_14_int          45 non-null     category\n",
      "dtypes: category(5), object(11)\n",
      "memory usage: 21.5+ KB\n"
     ]
    }
   ],
   "source": [
    "df.rename({'16S_1463772': 'rrs_1408', \n",
    "           '23S_1466477': 'rrl_2058',\n",
    "           '23S_1466478': 'rrl_2059',\n",
    "           'erm_T28C_2345982': 'erm41_28'},\n",
    "          axis=1, inplace=True)\n",
    "df.info()"
   ]
  },
  {
   "cell_type": "markdown",
   "id": "e7581e4e",
   "metadata": {},
   "source": [
    "### 2.4) Setting predicitons for genotypes"
   ]
  },
  {
   "cell_type": "code",
   "execution_count": 13,
   "id": "1b27c9b5",
   "metadata": {},
   "outputs": [
    {
     "data": {
      "text/plain": [
       "A    198\n",
       "G     27\n",
       "Name: rrs_1408, dtype: int64"
      ]
     },
     "execution_count": 13,
     "metadata": {},
     "output_type": "execute_result"
    }
   ],
   "source": [
    "df['rrs_1408'].value_counts()"
   ]
  },
  {
   "cell_type": "code",
   "execution_count": 14,
   "id": "eea5db37",
   "metadata": {},
   "outputs": [
    {
     "data": {
      "text/plain": [
       "Not resistant    198\n",
       "Resistant         27\n",
       "Name: rrs_prediction, dtype: int64"
      ]
     },
     "execution_count": 14,
     "metadata": {},
     "output_type": "execute_result"
    }
   ],
   "source": [
    "rrs_pred = {'A': 'Not resistant', \n",
    "            'G': 'Resistant'}\n",
    "df['rrs_prediction'] = df['rrs_1408'].apply(rrs_pred.get)\n",
    "df['rrs_prediction'].value_counts()"
   ]
  },
  {
   "cell_type": "code",
   "execution_count": 15,
   "id": "2f66461c",
   "metadata": {},
   "outputs": [
    {
     "data": {
      "text/plain": [
       "0      AA\n",
       "1      AA\n",
       "2      AA\n",
       "3      AA\n",
       "4      AA\n",
       "       ..\n",
       "220    AA\n",
       "221    AA\n",
       "222    AA\n",
       "223    AA\n",
       "224    AA\n",
       "Name: rrl_2058_2059, Length: 225, dtype: object"
      ]
     },
     "execution_count": 15,
     "metadata": {},
     "output_type": "execute_result"
    }
   ],
   "source": [
    "df['rrl_2058_2059'] = df['rrl_2058'] + df['rrl_2059']\n",
    "df['rrl_2058_2059']"
   ]
  },
  {
   "cell_type": "code",
   "execution_count": 16,
   "id": "7427eade",
   "metadata": {},
   "outputs": [
    {
     "data": {
      "text/plain": [
       "Not resistant    214\n",
       "Resistant         11\n",
       "Name: rrl_prediction, dtype: int64"
      ]
     },
     "execution_count": 16,
     "metadata": {},
     "output_type": "execute_result"
    }
   ],
   "source": [
    "rrl_pred = {'AA': 'Not resistant', \n",
    "            'CA': 'Resistant',\n",
    "            'GA': 'Resistant', \n",
    "            'AC': 'Resistant'}\n",
    "df['rrl_prediction'] = df['rrl_2058_2059'].apply(rrl_pred.get)\n",
    "df['rrl_prediction'].value_counts()"
   ]
  },
  {
   "cell_type": "code",
   "execution_count": 17,
   "id": "c79f0a52",
   "metadata": {},
   "outputs": [
    {
     "data": {
      "text/plain": [
       "T            174\n",
       "truncated     31\n",
       "C             20\n",
       "Name: erm41_28, dtype: int64"
      ]
     },
     "execution_count": 17,
     "metadata": {},
     "output_type": "execute_result"
    }
   ],
   "source": [
    "df['erm41_28'].value_counts()"
   ]
  },
  {
   "cell_type": "code",
   "execution_count": 18,
   "id": "3dd5bf25",
   "metadata": {},
   "outputs": [
    {
     "data": {
      "text/plain": [
       "Resistant        174\n",
       "Not resistant     51\n",
       "Name: erm_prediction, dtype: int64"
      ]
     },
     "execution_count": 18,
     "metadata": {},
     "output_type": "execute_result"
    }
   ],
   "source": [
    "erm_pred = {'C': 'Not resistant',\n",
    "            'truncated': 'Not resistant',\n",
    "            'T': 'Resistant'}\n",
    "df['erm_prediction'] = df['erm41_28'].apply(erm_pred.get)\n",
    "df['erm_prediction'].value_counts()"
   ]
  },
  {
   "cell_type": "code",
   "execution_count": 20,
   "id": "428837a7",
   "metadata": {},
   "outputs": [
    {
     "name": "stdout",
     "output_type": "stream",
     "text": [
      "<class 'pandas.core.frame.DataFrame'>\n",
      "RangeIndex: 225 entries, 0 to 224\n",
      "Data columns (total 20 columns):\n",
      " #   Column              Non-Null Count  Dtype   \n",
      "---  ------              --------------  -----   \n",
      " 0   Isolate             225 non-null    object  \n",
      " 1   Sample_ASID         225 non-null    object  \n",
      " 2   Patient_ASID        225 non-null    object  \n",
      " 3   WGS_Identification  225 non-null    object  \n",
      " 4   State               225 non-null    object  \n",
      " 5   MIC_AMK             225 non-null    category\n",
      " 6   MIC_CLR             225 non-null    category\n",
      " 7   MIC_CLR_14          45 non-null     object  \n",
      " 8   rrs_1408            225 non-null    object  \n",
      " 9   rrl_2058            225 non-null    object  \n",
      " 10  rrl_2059            225 non-null    object  \n",
      " 11  erm41_28            225 non-null    object  \n",
      " 12  Clone               225 non-null    object  \n",
      " 13  AMK_int             225 non-null    category\n",
      " 14  CLR_int             225 non-null    category\n",
      " 15  CLR_14_int          45 non-null     category\n",
      " 16  rrs_prediction      225 non-null    object  \n",
      " 17  rrl_2058_2059       225 non-null    object  \n",
      " 18  rrl_prediction      225 non-null    object  \n",
      " 19  erm_prediction      225 non-null    object  \n",
      "dtypes: category(5), object(15)\n",
      "memory usage: 28.5+ KB\n"
     ]
    }
   ],
   "source": [
    "# Exporting clean dataset\n",
    "df.to_excel('MAB_dataset_clean.xlsx')\n",
    "df.info()"
   ]
  },
  {
   "cell_type": "markdown",
   "id": "ee67bffc",
   "metadata": {},
   "source": [
    "## 3) Sample Level Analysis"
   ]
  },
  {
   "cell_type": "code",
   "execution_count": 20,
   "id": "a531a555",
   "metadata": {},
   "outputs": [
    {
     "name": "stdout",
     "output_type": "stream",
     "text": [
      "CF00287-00614.MAB\n",
      "CF01039-01210.MAB\n",
      "0.008888888888888889\n"
     ]
    }
   ],
   "source": [
    "# Percentage of isolates with resistance in both rrl and rrs: \n",
    "count_rrs_rrl = 0 \n",
    "for i, row in df.iterrows():\n",
    "    if (row['rrs_1408'] != 'A' and (row['rrl_2058_2059'] != 'AA')):\n",
    "        print(row['Isolate'])\n",
    "        count_rrs_rrl += 1\n",
    "print(count_rrs_rrl/225)"
   ]
  },
  {
   "cell_type": "code",
   "execution_count": 21,
   "id": "283e8377",
   "metadata": {},
   "outputs": [
    {
     "name": "stdout",
     "output_type": "stream",
     "text": [
      "CF00287-00614.MAB\n",
      "CF01039-01210.MAB\n",
      "0.008888888888888889\n"
     ]
    }
   ],
   "source": [
    "# Percentage of isolates with resistance in all genes: \n",
    "count_rrs_rrl_erm = 0 \n",
    "for i, row in df.iterrows():\n",
    "    if (row['rrs_1408'] != \"A\" and \n",
    "        row['rrl_2058_2059'] != 'AA' and \n",
    "        row['erm41_28'] != 'C'):\n",
    "        print(row['Isolate'])\n",
    "        count_rrs_rrl_erm += 1\n",
    "print(count_rrs_rrl_erm/225)"
   ]
  },
  {
   "cell_type": "markdown",
   "id": "5195b1a8",
   "metadata": {},
   "source": [
    "### 3.1) Comparison between Phenotype and Genotype"
   ]
  },
  {
   "cell_type": "code",
   "execution_count": 22,
   "id": "73f1b925",
   "metadata": {},
   "outputs": [],
   "source": [
    "import matplotlib.pyplot as plt"
   ]
  },
  {
   "cell_type": "code",
   "execution_count": 23,
   "id": "05f2db26",
   "metadata": {},
   "outputs": [
    {
     "data": {
      "text/html": [
       "<div>\n",
       "<style scoped>\n",
       "    .dataframe tbody tr th:only-of-type {\n",
       "        vertical-align: middle;\n",
       "    }\n",
       "\n",
       "    .dataframe tbody tr th {\n",
       "        vertical-align: top;\n",
       "    }\n",
       "\n",
       "    .dataframe thead th {\n",
       "        text-align: right;\n",
       "    }\n",
       "</style>\n",
       "<table border=\"1\" class=\"dataframe\">\n",
       "  <thead>\n",
       "    <tr style=\"text-align: right;\">\n",
       "      <th></th>\n",
       "      <th>MIC_AMK</th>\n",
       "      <th>rrs_1408</th>\n",
       "      <th>MAB</th>\n",
       "      <th>MBOL</th>\n",
       "      <th>MMAS</th>\n",
       "    </tr>\n",
       "  </thead>\n",
       "  <tbody>\n",
       "    <tr>\n",
       "      <th>0</th>\n",
       "      <td>≤8.0</td>\n",
       "      <td>A</td>\n",
       "      <td>91.0</td>\n",
       "      <td>2.0</td>\n",
       "      <td>11.0</td>\n",
       "    </tr>\n",
       "    <tr>\n",
       "      <th>1</th>\n",
       "      <td>16</td>\n",
       "      <td>A</td>\n",
       "      <td>64.0</td>\n",
       "      <td>1.0</td>\n",
       "      <td>19.0</td>\n",
       "    </tr>\n",
       "    <tr>\n",
       "      <th>2</th>\n",
       "      <td>32</td>\n",
       "      <td>A</td>\n",
       "      <td>9.0</td>\n",
       "      <td>0.0</td>\n",
       "      <td>1.0</td>\n",
       "    </tr>\n",
       "    <tr>\n",
       "      <th>3</th>\n",
       "      <td>&gt;64</td>\n",
       "      <td>G</td>\n",
       "      <td>25.0</td>\n",
       "      <td>2.0</td>\n",
       "      <td>0.0</td>\n",
       "    </tr>\n",
       "  </tbody>\n",
       "</table>\n",
       "</div>"
      ],
      "text/plain": [
       "  MIC_AMK rrs_1408   MAB  MBOL  MMAS\n",
       "0    ≤8.0        A  91.0   2.0  11.0\n",
       "1      16        A  64.0   1.0  19.0\n",
       "2      32        A   9.0   0.0   1.0\n",
       "3     >64        G  25.0   2.0   0.0"
      ]
     },
     "execution_count": 23,
     "metadata": {},
     "output_type": "execute_result"
    }
   ],
   "source": [
    "amk_rrs = df.groupby(['MIC_AMK', 'rrs_1408'])['WGS_Identification'].value_counts().unstack()\n",
    "amk_rrs.columns.name = None\n",
    "amk_rrs.reset_index(inplace=True)\n",
    "amk_rrs.fillna(0, inplace=True)\n",
    "amk_rrs"
   ]
  },
  {
   "cell_type": "code",
   "execution_count": 24,
   "id": "eec39938",
   "metadata": {},
   "outputs": [
    {
     "data": {
      "image/png": "[encoded data removed]",
      "text/plain": [
       "<Figure size 640x480 with 1 Axes>"
      ]
     },
     "metadata": {},
     "output_type": "display_data"
    }
   ],
   "source": [
    "# Figure 1a\n",
    "\n",
    "mab_rrs = amk_rrs.pivot(index=\"MIC_AMK\", columns=\"rrs_1408\", values=\"MAB\")\n",
    "mab_rrs.fillna(0, inplace=True)\n",
    "mab_rrs.sort_index(inplace=True)\n",
    "mab_rrs.index.name = \"MIC Amikacin\"\n",
    "\n",
    "fig_1a = mab_rrs.plot(kind=\"bar\", stacked=True)\n",
    "plt.xticks(rotation=0)\n",
    "plt.title(label=\"MAB\")\n",
    "plt.ylabel(ylabel=\"Number of isolates\")\n",
    "plt.legend(title=\"rrs 1408\", loc='center left', bbox_to_anchor=(1, 0.5))\n",
    "plt.show()"
   ]
  },
  {
   "cell_type": "code",
   "execution_count": 25,
   "id": "31bd7485",
   "metadata": {},
   "outputs": [
    {
     "data": {
      "image/png": "[encoded data removed]",
      "text/plain": [
       "<Figure size 640x480 with 1 Axes>"
      ]
     },
     "metadata": {},
     "output_type": "display_data"
    }
   ],
   "source": [
    "# Figure 1b\n",
    "\n",
    "mbol_rrs = amk_rrs.pivot(index=\"MIC_AMK\", columns=\"rrs_1408\", values=\"MBOL\")\n",
    "mbol_rrs.fillna(0, inplace=True)\n",
    "mbol_rrs.sort_index(inplace=True)\n",
    "mbol_rrs.index.name = \"MIC_AMK\"\n",
    "\n",
    "fig_1b = mbol_rrs.plot(kind=\"bar\", stacked=True)\n",
    "plt.xticks(rotation=0)\n",
    "plt.title(label=\"MBOL\")\n",
    "plt.ylabel(ylabel=\"Number of isolates\")\n",
    "plt.legend(title=\"rrs 1408\", loc='center left', bbox_to_anchor=(1, 0.5))\n",
    "plt.show()"
   ]
  },
  {
   "cell_type": "code",
   "execution_count": 26,
   "id": "bb465c80",
   "metadata": {},
   "outputs": [
    {
     "data": {
      "image/png": "[encoded data removed]",
      "text/plain": [
       "<Figure size 640x480 with 1 Axes>"
      ]
     },
     "metadata": {},
     "output_type": "display_data"
    }
   ],
   "source": [
    "# Figure 1c\n",
    "mmas_rrs = amk_rrs.pivot(index=\"MIC_AMK\", columns=\"rrs_1408\", values=\"MMAS\")\n",
    "mmas_rrs.fillna(0, inplace=True)\n",
    "mmas_rrs.sort_index(inplace=True)\n",
    "mmas_rrs.index.name = \"MIC_AMK\"\n",
    "\n",
    "fig_1c = mmas_rrs.plot(kind=\"bar\", stacked=True)\n",
    "plt.xticks(rotation=0)\n",
    "plt.title(label=\"MMAS\")\n",
    "plt.ylabel(ylabel=\"Number of isolates\")\n",
    "plt.legend(title=\"rrs 1408\", loc='center left', bbox_to_anchor=(1, 0.5))\n",
    "plt.show()"
   ]
  },
  {
   "cell_type": "code",
   "execution_count": 27,
   "id": "1b0f2ea2",
   "metadata": {},
   "outputs": [
    {
     "data": {
      "text/html": [
       "<div>\n",
       "<style scoped>\n",
       "    .dataframe tbody tr th:only-of-type {\n",
       "        vertical-align: middle;\n",
       "    }\n",
       "\n",
       "    .dataframe tbody tr th {\n",
       "        vertical-align: top;\n",
       "    }\n",
       "\n",
       "    .dataframe thead th {\n",
       "        text-align: right;\n",
       "    }\n",
       "</style>\n",
       "<table border=\"1\" class=\"dataframe\">\n",
       "  <thead>\n",
       "    <tr style=\"text-align: right;\">\n",
       "      <th></th>\n",
       "      <th>MIC_CLR</th>\n",
       "      <th>rrl_2058_2059</th>\n",
       "      <th>MAB</th>\n",
       "      <th>MBOL</th>\n",
       "      <th>MMAS</th>\n",
       "    </tr>\n",
       "  </thead>\n",
       "  <tbody>\n",
       "    <tr>\n",
       "      <th>0</th>\n",
       "      <td>≤0.25</td>\n",
       "      <td>AA</td>\n",
       "      <td>60.0</td>\n",
       "      <td>3.0</td>\n",
       "      <td>25.0</td>\n",
       "    </tr>\n",
       "    <tr>\n",
       "      <th>1</th>\n",
       "      <td>0.5</td>\n",
       "      <td>AA</td>\n",
       "      <td>32.0</td>\n",
       "      <td>1.0</td>\n",
       "      <td>2.0</td>\n",
       "    </tr>\n",
       "    <tr>\n",
       "      <th>2</th>\n",
       "      <td>1</td>\n",
       "      <td>AA</td>\n",
       "      <td>31.0</td>\n",
       "      <td>1.0</td>\n",
       "      <td>3.0</td>\n",
       "    </tr>\n",
       "    <tr>\n",
       "      <th>3</th>\n",
       "      <td>2</td>\n",
       "      <td>AA</td>\n",
       "      <td>32.0</td>\n",
       "      <td>0.0</td>\n",
       "      <td>0.0</td>\n",
       "    </tr>\n",
       "    <tr>\n",
       "      <th>4</th>\n",
       "      <td>4</td>\n",
       "      <td>AA</td>\n",
       "      <td>19.0</td>\n",
       "      <td>0.0</td>\n",
       "      <td>0.0</td>\n",
       "    </tr>\n",
       "    <tr>\n",
       "      <th>5</th>\n",
       "      <td>8</td>\n",
       "      <td>AA</td>\n",
       "      <td>1.0</td>\n",
       "      <td>0.0</td>\n",
       "      <td>0.0</td>\n",
       "    </tr>\n",
       "    <tr>\n",
       "      <th>6</th>\n",
       "      <td>16</td>\n",
       "      <td>AA</td>\n",
       "      <td>1.0</td>\n",
       "      <td>0.0</td>\n",
       "      <td>0.0</td>\n",
       "    </tr>\n",
       "    <tr>\n",
       "      <th>7</th>\n",
       "      <td>&gt;32</td>\n",
       "      <td>AA</td>\n",
       "      <td>3.0</td>\n",
       "      <td>0.0</td>\n",
       "      <td>0.0</td>\n",
       "    </tr>\n",
       "    <tr>\n",
       "      <th>8</th>\n",
       "      <td>&gt;32</td>\n",
       "      <td>AC</td>\n",
       "      <td>1.0</td>\n",
       "      <td>0.0</td>\n",
       "      <td>0.0</td>\n",
       "    </tr>\n",
       "    <tr>\n",
       "      <th>9</th>\n",
       "      <td>&gt;32</td>\n",
       "      <td>CA</td>\n",
       "      <td>7.0</td>\n",
       "      <td>0.0</td>\n",
       "      <td>1.0</td>\n",
       "    </tr>\n",
       "    <tr>\n",
       "      <th>10</th>\n",
       "      <td>&gt;32</td>\n",
       "      <td>GA</td>\n",
       "      <td>2.0</td>\n",
       "      <td>0.0</td>\n",
       "      <td>0.0</td>\n",
       "    </tr>\n",
       "  </tbody>\n",
       "</table>\n",
       "</div>"
      ],
      "text/plain": [
       "   MIC_CLR rrl_2058_2059   MAB  MBOL  MMAS\n",
       "0    ≤0.25            AA  60.0   3.0  25.0\n",
       "1      0.5            AA  32.0   1.0   2.0\n",
       "2        1            AA  31.0   1.0   3.0\n",
       "3        2            AA  32.0   0.0   0.0\n",
       "4        4            AA  19.0   0.0   0.0\n",
       "5        8            AA   1.0   0.0   0.0\n",
       "6       16            AA   1.0   0.0   0.0\n",
       "7      >32            AA   3.0   0.0   0.0\n",
       "8      >32            AC   1.0   0.0   0.0\n",
       "9      >32            CA   7.0   0.0   1.0\n",
       "10     >32            GA   2.0   0.0   0.0"
      ]
     },
     "execution_count": 27,
     "metadata": {},
     "output_type": "execute_result"
    }
   ],
   "source": [
    "clr_rrl = df.groupby(['MIC_CLR', 'rrl_2058_2059'])['WGS_Identification'].value_counts().unstack()\n",
    "clr_rrl.columns.name = None\n",
    "clr_rrl.reset_index(inplace=True)\n",
    "clr_rrl.fillna(0, inplace=True)\n",
    "clr_rrl"
   ]
  },
  {
   "cell_type": "code",
   "execution_count": 28,
   "id": "7a4e3181",
   "metadata": {},
   "outputs": [
    {
     "data": {
      "image/png": "[encoded data removed]",
      "text/plain": [
       "<Figure size 640x480 with 1 Axes>"
      ]
     },
     "metadata": {},
     "output_type": "display_data"
    }
   ],
   "source": [
    "# Figure 1d\n",
    "mab_rrl = clr_rrl.pivot(index=\"MIC_CLR\", columns=\"rrl_2058_2059\", values=\"MAB\")\n",
    "mab_rrl.fillna(0, inplace=True)\n",
    "mab_rrl.sort_index(inplace=True)\n",
    "mab_rrl.index.name = \"MIC Clarithromycin (3-5 days)\"\n",
    "\n",
    "mab_rrl.plot(kind=\"bar\", stacked=True)\n",
    "plt.xticks(rotation=0)\n",
    "plt.title(label=\"MAB\")\n",
    "plt.ylabel(ylabel=\"Number of isolates\")\n",
    "plt.legend(title=\"rrl 2058-59\", loc='center left', bbox_to_anchor=(1, 0.5))\n",
    "plt.show()"
   ]
  },
  {
   "cell_type": "code",
   "execution_count": 29,
   "id": "333740a0",
   "metadata": {},
   "outputs": [
    {
     "data": {
      "image/png": "[encoded data removed]",
      "text/plain": [
       "<Figure size 640x480 with 1 Axes>"
      ]
     },
     "metadata": {},
     "output_type": "display_data"
    }
   ],
   "source": [
    "# Figure 1e\n",
    "mab_rrl = clr_rrl.pivot(index=\"MIC_CLR\", columns=\"rrl_2058_2059\", values=\"MBOL\")\n",
    "mab_rrl.fillna(0, inplace=True)\n",
    "mab_rrl.sort_index(inplace=True)\n",
    "mab_rrl.index.name = \"MIC Clarithromycin (3-5 days)\"\n",
    "\n",
    "mab_rrl.plot(kind=\"bar\", stacked=True)\n",
    "plt.xticks(rotation=0)\n",
    "plt.title(label=\"MBOL\")\n",
    "plt.ylabel(ylabel=\"Number of isolates\")\n",
    "plt.legend(title=\"rrl 2058-59\", loc='center left', bbox_to_anchor=(1, 0.5))\n",
    "plt.show()"
   ]
  },
  {
   "cell_type": "code",
   "execution_count": 30,
   "id": "0a22e2f1",
   "metadata": {},
   "outputs": [
    {
     "data": {
      "image/png": "[encoded data removed]",
      "text/plain": [
       "<Figure size 640x480 with 1 Axes>"
      ]
     },
     "metadata": {},
     "output_type": "display_data"
    }
   ],
   "source": [
    "# Figure 1f\n",
    "mab_rrl = clr_rrl.pivot(index=\"MIC_CLR\", columns=\"rrl_2058_2059\", values=\"MMAS\")\n",
    "mab_rrl.fillna(0, inplace=True)\n",
    "mab_rrl.sort_index(inplace=True)\n",
    "mab_rrl.index.name = \"MIC Clarithromycin (3-5 days)\"\n",
    "\n",
    "mab_rrl.plot(kind=\"bar\", stacked=True)\n",
    "plt.xticks(rotation=0)\n",
    "plt.title(label=\"MMAS\")\n",
    "plt.ylabel(ylabel=\"Number of isolates\")\n",
    "plt.legend(title=\"rrl 2058-59\", loc='center left', bbox_to_anchor=(1, 0.5))\n",
    "plt.show()"
   ]
  },
  {
   "cell_type": "markdown",
   "id": "53cfc311",
   "metadata": {},
   "source": [
    "## 4) Longitudinal Analysis"
   ]
  },
  {
   "cell_type": "markdown",
   "id": "eade23d7",
   "metadata": {},
   "source": [
    "### 4.1) Isolates per patient"
   ]
  },
  {
   "cell_type": "code",
   "execution_count": 31,
   "id": "04ee88b5",
   "metadata": {},
   "outputs": [
    {
     "name": "stdout",
     "output_type": "stream",
     "text": [
      "Patients with 1 isolate: 70\n",
      "Patients with >= 2 isolates: 45\n"
     ]
    }
   ],
   "source": [
    "one_iso = 0\n",
    "two_or_more_iso = 0\n",
    "\n",
    "for count in df['Patient_ASID'].value_counts().values:\n",
    "    if count == 1: \n",
    "         one_iso += 1\n",
    "    elif count >= 2:\n",
    "        two_or_more_iso += 1\n",
    "\n",
    "\n",
    "print(f'Patients with 1 isolate: {one_iso}')\n",
    "print(f'Patients with >= 2 isolates: {two_or_more_iso}')"
   ]
  },
  {
   "cell_type": "markdown",
   "id": "e9d1fea0",
   "metadata": {},
   "source": [
    "### 4.2) Subspecies per patient"
   ]
  },
  {
   "cell_type": "code",
   "execution_count": 32,
   "id": "cab43eaa",
   "metadata": {},
   "outputs": [
    {
     "name": "stdout",
     "output_type": "stream",
     "text": [
      "CF00198\n",
      "MAB     2\n",
      "MMAS    1\n",
      "Name: WGS_Identification, dtype: int64\n",
      "\n",
      "CF00154\n",
      "MMAS    2\n",
      "MAB     1\n",
      "Name: WGS_Identification, dtype: int64\n",
      "\n",
      "CF00077\n",
      "MAB     1\n",
      "MMAS    1\n",
      "Name: WGS_Identification, dtype: int64\n",
      "\n",
      "Number of patients with longitudinal variation in subspecies: 3\n"
     ]
    }
   ],
   "source": [
    "two_or_more_subsp = 0\n",
    "\n",
    "for patient, count in df['Patient_ASID'].value_counts().items():\n",
    "    if count > 1: \n",
    "        if df[df['Patient_ASID'] == patient]['WGS_Identification'].nunique() > 1: \n",
    "            print(patient)\n",
    "            print(df[df['Patient_ASID'] == patient]['WGS_Identification'].value_counts())\n",
    "            print('')  \n",
    "            two_or_more_subsp += 1  \n",
    "            \n",
    "print(f'Number of patients with longitudinal variation in subspecies: {two_or_more_subsp}')"
   ]
  },
  {
   "cell_type": "markdown",
   "id": "03c07faf",
   "metadata": {},
   "source": [
    "### 4.3) Variation in rrs position 1408"
   ]
  },
  {
   "cell_type": "code",
   "execution_count": 33,
   "id": "8f491e82",
   "metadata": {},
   "outputs": [
    {
     "name": "stdout",
     "output_type": "stream",
     "text": [
      "CF00138\n",
      "A    4\n",
      "G    1\n",
      "Name: rrs_1408, dtype: int64\n",
      "\n",
      "CF00088\n",
      "A    2\n",
      "G    1\n",
      "Name: rrs_1408, dtype: int64\n",
      "\n",
      "Number of patients with longitudinal variation in rrs position 1408: 2\n"
     ]
    }
   ],
   "source": [
    "rrs_snps = 0\n",
    "\n",
    "for patient, count in df[\"Patient_ASID\"].value_counts().items():\n",
    "    if count > 1: \n",
    "        if df[df[\"Patient_ASID\"] == patient][\"rrs_1408\"].nunique() > 1: \n",
    "            print(patient)\n",
    "            print(df[df[\"Patient_ASID\"] == patient][\"rrs_1408\"].value_counts())\n",
    "            print(\"\")  \n",
    "            rrs_snps += 1  \n",
    "            \n",
    "print(f\"Number of patients with longitudinal variation in rrs position 1408: {rrs_snps}\")"
   ]
  },
  {
   "cell_type": "markdown",
   "id": "1d2349c9",
   "metadata": {},
   "source": [
    "### 4.4) Variation in rrl positions 2058 and 2059"
   ]
  },
  {
   "cell_type": "code",
   "execution_count": 34,
   "id": "a21ae369",
   "metadata": {},
   "outputs": [
    {
     "name": "stdout",
     "output_type": "stream",
     "text": [
      "CF00158\n",
      "AA    2\n",
      "CA    2\n",
      "Name: rrl_2058_2059, dtype: int64\n",
      "\n",
      "Number of patients with longitudinal variation in rrl position 2058-59: 1\n"
     ]
    }
   ],
   "source": [
    "rrl_snps = 0\n",
    "\n",
    "for patient, count in df[\"Patient_ASID\"].value_counts().items():\n",
    "    if count > 1: \n",
    "        if df[df[\"Patient_ASID\"] == patient]['rrl_2058_2059'].nunique() > 1: \n",
    "            print(patient)\n",
    "            print(df[df[\"Patient_ASID\"] == patient][\"rrl_2058_2059\"].value_counts())\n",
    "            print(\"\")  \n",
    "            rrl_snps += 1  \n",
    "            \n",
    "print(f\"Number of patients with longitudinal variation in rrl position 2058-59: {rrl_snps}\")"
   ]
  },
  {
   "cell_type": "markdown",
   "id": "b392c89b",
   "metadata": {},
   "source": [
    "### 4.5) Variation in erm(41) position 28"
   ]
  },
  {
   "cell_type": "code",
   "execution_count": 35,
   "id": "63ba58e5",
   "metadata": {},
   "outputs": [
    {
     "name": "stdout",
     "output_type": "stream",
     "text": [
      "CF00016\n",
      "T    7\n",
      "C    2\n",
      "Name: erm41_28, dtype: int64\n",
      "\n",
      "CF00198\n",
      "C            2\n",
      "truncated    1\n",
      "Name: erm41_28, dtype: int64\n",
      "\n",
      "CF00154\n",
      "truncated    2\n",
      "T            1\n",
      "Name: erm41_28, dtype: int64\n",
      "\n",
      "CF00077\n",
      "T            1\n",
      "truncated    1\n",
      "Name: erm41_28, dtype: int64\n",
      "\n",
      "Number of patients with longitudinal variation in erm(41) position 28: 4\n"
     ]
    }
   ],
   "source": [
    "erm_snps = 0\n",
    "\n",
    "for patient, count in df[\"Patient_ASID\"].value_counts().items():\n",
    "    if count > 1: \n",
    "        if df[df[\"Patient_ASID\"] == patient][\"erm41_28\"].nunique() > 1: \n",
    "            print(patient)\n",
    "            print(df[df[\"Patient_ASID\"] == patient][\"erm41_28\"].value_counts())\n",
    "            print(\"\")  \n",
    "            erm_snps += 1  \n",
    "            \n",
    "print(f\"Number of patients with longitudinal variation in erm(41) position 28: {erm_snps}\")"
   ]
  },
  {
   "attachments": {},
   "cell_type": "markdown",
   "id": "7299424e",
   "metadata": {},
   "source": [
    "### 4.6) Confusion matrices for phenotype and genotype\n",
    "- Precision = TP / TP + FP\n",
    "- Accuracy = TP + TN / Total\n",
    "- Sensitivity = TP / TP + FN\n",
    "- Specificity = TN / TN + FP\n",
    "\n",
    "Removal of intermediate interpretation was done to remove potential 2-fold dilution errors that make qualitative classifications uncertain\n",
    "\n",
    "Sensitivity and Specificity will be calculated using the epiR package (see \"Analysis_DR_mutations_MAB.html\")"
   ]
  },
  {
   "cell_type": "code",
   "execution_count": 36,
   "id": "0aa4d901",
   "metadata": {},
   "outputs": [
    {
     "data": {
      "text/html": [
       "<div>\n",
       "<style scoped>\n",
       "    .dataframe tbody tr th:only-of-type {\n",
       "        vertical-align: middle;\n",
       "    }\n",
       "\n",
       "    .dataframe tbody tr th {\n",
       "        vertical-align: top;\n",
       "    }\n",
       "\n",
       "    .dataframe thead th {\n",
       "        text-align: right;\n",
       "    }\n",
       "</style>\n",
       "<table border=\"1\" class=\"dataframe\">\n",
       "  <thead>\n",
       "    <tr style=\"text-align: right;\">\n",
       "      <th>AMK resistance</th>\n",
       "      <th>True</th>\n",
       "      <th>False</th>\n",
       "    </tr>\n",
       "    <tr>\n",
       "      <th>rrs resistance</th>\n",
       "      <th></th>\n",
       "      <th></th>\n",
       "    </tr>\n",
       "  </thead>\n",
       "  <tbody>\n",
       "    <tr>\n",
       "      <th>True</th>\n",
       "      <td>27</td>\n",
       "      <td>0</td>\n",
       "    </tr>\n",
       "    <tr>\n",
       "      <th>False</th>\n",
       "      <td>0</td>\n",
       "      <td>188</td>\n",
       "    </tr>\n",
       "  </tbody>\n",
       "</table>\n",
       "</div>"
      ],
      "text/plain": [
       "AMK resistance  True  False\n",
       "rrs resistance             \n",
       "True              27      0\n",
       "False              0    188"
      ]
     },
     "execution_count": 36,
     "metadata": {},
     "output_type": "execute_result"
    }
   ],
   "source": [
    "# rrs confusion matrix \n",
    "rrs_matrix = df.groupby(['rrs_prediction'])['AMK_int'].value_counts().unstack()\n",
    "rrs_matrix.drop(columns='I', inplace=True)\n",
    "rrs_matrix = rrs_matrix.reindex(['Resistant', 'Not resistant'], axis=0)\n",
    "rrs_matrix = rrs_matrix.reindex(['R', 'S'], axis=1)\n",
    "rrs_matrix.rename({'Resistant': 'True', 'Not resistant': 'False'}, axis=0, inplace=True)\n",
    "rrs_matrix.rename({'R': 'True', 'S': 'False'}, axis=1, inplace=True)\n",
    "rrs_matrix.index.name = 'rrs resistance'\n",
    "rrs_matrix.columns.name='AMK resistance'\n",
    "rrs_matrix.to_csv('rrs_confusion_matrix.csv')\n",
    "rrs_matrix"
   ]
  },
  {
   "cell_type": "code",
   "execution_count": 37,
   "id": "8752bd1c",
   "metadata": {},
   "outputs": [
    {
     "data": {
      "text/html": [
       "<div>\n",
       "<style scoped>\n",
       "    .dataframe tbody tr th:only-of-type {\n",
       "        vertical-align: middle;\n",
       "    }\n",
       "\n",
       "    .dataframe tbody tr th {\n",
       "        vertical-align: top;\n",
       "    }\n",
       "\n",
       "    .dataframe thead th {\n",
       "        text-align: right;\n",
       "    }\n",
       "</style>\n",
       "<table border=\"1\" class=\"dataframe\">\n",
       "  <thead>\n",
       "    <tr style=\"text-align: right;\">\n",
       "      <th>CLR 3-5 days resistance</th>\n",
       "      <th>True</th>\n",
       "      <th>False</th>\n",
       "    </tr>\n",
       "    <tr>\n",
       "      <th>rrl resistance</th>\n",
       "      <th></th>\n",
       "      <th></th>\n",
       "    </tr>\n",
       "  </thead>\n",
       "  <tbody>\n",
       "    <tr>\n",
       "      <th>True</th>\n",
       "      <td>11</td>\n",
       "      <td>0</td>\n",
       "    </tr>\n",
       "    <tr>\n",
       "      <th>False</th>\n",
       "      <td>5</td>\n",
       "      <td>190</td>\n",
       "    </tr>\n",
       "  </tbody>\n",
       "</table>\n",
       "</div>"
      ],
      "text/plain": [
       "CLR 3-5 days resistance  True  False\n",
       "rrl resistance                      \n",
       "True                       11      0\n",
       "False                       5    190"
      ]
     },
     "execution_count": 37,
     "metadata": {},
     "output_type": "execute_result"
    }
   ],
   "source": [
    "# rrl confusion matrix \n",
    "rrl_matrix = df.groupby(['rrl_prediction'])['CLR_int'].value_counts().unstack()\n",
    "rrl_matrix.drop(columns='I', inplace=True)\n",
    "rrl_matrix = rrl_matrix.reindex(['Resistant', 'Not resistant'], axis=0)\n",
    "rrl_matrix = rrl_matrix.reindex(['R', 'S'], axis=1)\n",
    "rrl_matrix.rename({'Resistant': 'True', 'Not resistant': 'False'}, axis=0, inplace=True)\n",
    "rrl_matrix.rename({'R': 'True', 'S': 'False'}, axis=1, inplace=True)\n",
    "rrl_matrix.index.name = 'rrl resistance'\n",
    "rrl_matrix.columns.name='CLR 3-5 days resistance'\n",
    "rrl_matrix.to_csv('rrl_confusion_matrix.csv')\n",
    "rrl_matrix"
   ]
  },
  {
   "cell_type": "code",
   "execution_count": 38,
   "id": "bb1dfcdf",
   "metadata": {},
   "outputs": [
    {
     "data": {
      "text/html": [
       "<div>\n",
       "<style scoped>\n",
       "    .dataframe tbody tr th:only-of-type {\n",
       "        vertical-align: middle;\n",
       "    }\n",
       "\n",
       "    .dataframe tbody tr th {\n",
       "        vertical-align: top;\n",
       "    }\n",
       "\n",
       "    .dataframe thead th {\n",
       "        text-align: right;\n",
       "    }\n",
       "</style>\n",
       "<table border=\"1\" class=\"dataframe\">\n",
       "  <thead>\n",
       "    <tr style=\"text-align: right;\">\n",
       "      <th>CLR 14 days resistance</th>\n",
       "      <th>True</th>\n",
       "      <th>False</th>\n",
       "    </tr>\n",
       "    <tr>\n",
       "      <th>erm resistance</th>\n",
       "      <th></th>\n",
       "      <th></th>\n",
       "    </tr>\n",
       "  </thead>\n",
       "  <tbody>\n",
       "    <tr>\n",
       "      <th>True</th>\n",
       "      <td>28</td>\n",
       "      <td>0</td>\n",
       "    </tr>\n",
       "    <tr>\n",
       "      <th>False</th>\n",
       "      <td>0</td>\n",
       "      <td>12</td>\n",
       "    </tr>\n",
       "  </tbody>\n",
       "</table>\n",
       "</div>"
      ],
      "text/plain": [
       "CLR 14 days resistance  True  False\n",
       "erm resistance                     \n",
       "True                      28      0\n",
       "False                      0     12"
      ]
     },
     "execution_count": 38,
     "metadata": {},
     "output_type": "execute_result"
    }
   ],
   "source": [
    "# erm confusion matrix (only for non MMAS isolates with rrl_2058_2059 == 'AA')\n",
    "subsp_rrl_filter = (df['WGS_Identification'] != 'MMAS') & (df['rrl_2058_2059'] == 'AA')\n",
    "erm_matrix = df[subsp_rrl_filter].groupby(['erm_prediction'])['CLR_14_int'].value_counts().unstack()\n",
    "erm_matrix.drop(columns='I', inplace=True)\n",
    "erm_matrix = erm_matrix.reindex(['Resistant', 'Not resistant'], axis=0)\n",
    "erm_matrix = erm_matrix.reindex(['R', 'S'], axis=1)\n",
    "erm_matrix.rename({'Resistant': 'True', 'Not resistant': 'False'}, axis=0, inplace=True)\n",
    "erm_matrix.rename({'R': 'True', 'S': 'False'}, axis=1, inplace=True)\n",
    "erm_matrix.index.name = 'erm resistance'\n",
    "erm_matrix.columns.name='CLR 14 days resistance'\n",
    "erm_matrix.to_csv('erm_confusion_matrix.csv')\n",
    "erm_matrix"
   ]
  },
  {
   "cell_type": "markdown",
   "id": "ea50fcb2",
   "metadata": {},
   "source": [
    "## 5) Patient Level Analysis"
   ]
  },
  {
   "cell_type": "code",
   "execution_count": 39,
   "id": "cdf607ad",
   "metadata": {},
   "outputs": [
    {
     "name": "stdout",
     "output_type": "stream",
     "text": [
      "<class 'pandas.core.frame.DataFrame'>\n",
      "Int64Index: 115 entries, 0 to 224\n",
      "Data columns (total 20 columns):\n",
      " #   Column              Non-Null Count  Dtype   \n",
      "---  ------              --------------  -----   \n",
      " 0   Isolate             115 non-null    object  \n",
      " 1   Sample_ASID         115 non-null    object  \n",
      " 2   Patient_ASID        115 non-null    object  \n",
      " 3   WGS_Identification  115 non-null    object  \n",
      " 4   State               115 non-null    object  \n",
      " 5   MIC_AMK             115 non-null    category\n",
      " 6   MIC_CLR             115 non-null    category\n",
      " 7   MIC_CLR_14          24 non-null     object  \n",
      " 8   rrs_1408            115 non-null    object  \n",
      " 9   rrl_2058            115 non-null    object  \n",
      " 10  rrl_2059            115 non-null    object  \n",
      " 11  erm41_28            115 non-null    object  \n",
      " 12  Clone               115 non-null    object  \n",
      " 13  AMK_int             115 non-null    category\n",
      " 14  CLR_int             115 non-null    category\n",
      " 15  CLR_14_int          24 non-null     category\n",
      " 16  rrs_prediction      115 non-null    object  \n",
      " 17  rrl_2058_2059       115 non-null    object  \n",
      " 18  rrl_prediction      115 non-null    object  \n",
      " 19  erm_prediction      115 non-null    object  \n",
      "dtypes: category(5), object(15)\n",
      "memory usage: 15.9+ KB\n"
     ]
    }
   ],
   "source": [
    "# Patient Level Dataset \n",
    "# Only contains the first collection date from each patient\n",
    "df_unique_pt = df.drop_duplicates(subset='Patient_ASID')\n",
    "df_unique_pt.info()"
   ]
  },
  {
   "cell_type": "markdown",
   "id": "a0598476",
   "metadata": {},
   "source": [
    "### 5.1) Phenotipic summary"
   ]
  },
  {
   "cell_type": "code",
   "execution_count": 40,
   "id": "5f0bc433",
   "metadata": {},
   "outputs": [
    {
     "data": {
      "text/html": [
       "<div>\n",
       "<style scoped>\n",
       "    .dataframe tbody tr th:only-of-type {\n",
       "        vertical-align: middle;\n",
       "    }\n",
       "\n",
       "    .dataframe tbody tr th {\n",
       "        vertical-align: top;\n",
       "    }\n",
       "\n",
       "    .dataframe thead th {\n",
       "        text-align: right;\n",
       "    }\n",
       "</style>\n",
       "<table border=\"1\" class=\"dataframe\">\n",
       "  <thead>\n",
       "    <tr style=\"text-align: right;\">\n",
       "      <th></th>\n",
       "      <th>MIC</th>\n",
       "      <th>Interpretation</th>\n",
       "      <th>MAB</th>\n",
       "      <th>MBOL</th>\n",
       "      <th>MMAS</th>\n",
       "    </tr>\n",
       "    <tr>\n",
       "      <th>Drug</th>\n",
       "      <th></th>\n",
       "      <th></th>\n",
       "      <th></th>\n",
       "      <th></th>\n",
       "      <th></th>\n",
       "    </tr>\n",
       "  </thead>\n",
       "  <tbody>\n",
       "    <tr>\n",
       "      <th>Amikacin</th>\n",
       "      <td>≤8.0</td>\n",
       "      <td>S</td>\n",
       "      <td>45.0</td>\n",
       "      <td>1.0</td>\n",
       "      <td>7.0</td>\n",
       "    </tr>\n",
       "    <tr>\n",
       "      <th>Amikacin</th>\n",
       "      <td>16</td>\n",
       "      <td>S</td>\n",
       "      <td>32.0</td>\n",
       "      <td>1.0</td>\n",
       "      <td>15.0</td>\n",
       "    </tr>\n",
       "    <tr>\n",
       "      <th>Amikacin</th>\n",
       "      <td>32</td>\n",
       "      <td>I</td>\n",
       "      <td>3.0</td>\n",
       "      <td>0.0</td>\n",
       "      <td>1.0</td>\n",
       "    </tr>\n",
       "    <tr>\n",
       "      <th>Amikacin</th>\n",
       "      <td>&gt;64</td>\n",
       "      <td>R</td>\n",
       "      <td>9.0</td>\n",
       "      <td>1.0</td>\n",
       "      <td>0.0</td>\n",
       "    </tr>\n",
       "  </tbody>\n",
       "</table>\n",
       "</div>"
      ],
      "text/plain": [
       "           MIC Interpretation   MAB  MBOL  MMAS\n",
       "Drug                                           \n",
       "Amikacin  ≤8.0              S  45.0   1.0   7.0\n",
       "Amikacin    16              S  32.0   1.0  15.0\n",
       "Amikacin    32              I   3.0   0.0   1.0\n",
       "Amikacin   >64              R   9.0   1.0   0.0"
      ]
     },
     "execution_count": 40,
     "metadata": {},
     "output_type": "execute_result"
    }
   ],
   "source": [
    "amk = df_unique_pt.groupby(['MIC_AMK', 'AMK_int'])['WGS_Identification'].value_counts().unstack()\n",
    "amk.reset_index(inplace=True)\n",
    "amk.columns.name = None\n",
    "amk.rename({'MIC_AMK': 'MIC', \n",
    "            'AMK_int': 'Interpretation'}, \n",
    "           axis=1, inplace=True)\n",
    "amk.index = ['Amikacin'] * amk.shape[0]\n",
    "amk.index.name = 'Drug'\n",
    "amk.fillna(0, inplace=True)\n",
    "amk"
   ]
  },
  {
   "cell_type": "code",
   "execution_count": 41,
   "id": "3f042ffb",
   "metadata": {},
   "outputs": [
    {
     "data": {
      "text/html": [
       "<div>\n",
       "<style scoped>\n",
       "    .dataframe tbody tr th:only-of-type {\n",
       "        vertical-align: middle;\n",
       "    }\n",
       "\n",
       "    .dataframe tbody tr th {\n",
       "        vertical-align: top;\n",
       "    }\n",
       "\n",
       "    .dataframe thead th {\n",
       "        text-align: right;\n",
       "    }\n",
       "</style>\n",
       "<table border=\"1\" class=\"dataframe\">\n",
       "  <thead>\n",
       "    <tr style=\"text-align: right;\">\n",
       "      <th></th>\n",
       "      <th>MIC</th>\n",
       "      <th>Interpretation</th>\n",
       "      <th>MAB</th>\n",
       "      <th>MBOL</th>\n",
       "      <th>MMAS</th>\n",
       "    </tr>\n",
       "    <tr>\n",
       "      <th>Drug</th>\n",
       "      <th></th>\n",
       "      <th></th>\n",
       "      <th></th>\n",
       "      <th></th>\n",
       "      <th></th>\n",
       "    </tr>\n",
       "  </thead>\n",
       "  <tbody>\n",
       "    <tr>\n",
       "      <th>Clarithromycin</th>\n",
       "      <td>≤0.25</td>\n",
       "      <td>S</td>\n",
       "      <td>32.0</td>\n",
       "      <td>1.0</td>\n",
       "      <td>19.0</td>\n",
       "    </tr>\n",
       "    <tr>\n",
       "      <th>Clarithromycin</th>\n",
       "      <td>0.5</td>\n",
       "      <td>S</td>\n",
       "      <td>13.0</td>\n",
       "      <td>1.0</td>\n",
       "      <td>1.0</td>\n",
       "    </tr>\n",
       "    <tr>\n",
       "      <th>Clarithromycin</th>\n",
       "      <td>1</td>\n",
       "      <td>S</td>\n",
       "      <td>15.0</td>\n",
       "      <td>1.0</td>\n",
       "      <td>2.0</td>\n",
       "    </tr>\n",
       "    <tr>\n",
       "      <th>Clarithromycin</th>\n",
       "      <td>2</td>\n",
       "      <td>S</td>\n",
       "      <td>13.0</td>\n",
       "      <td>0.0</td>\n",
       "      <td>0.0</td>\n",
       "    </tr>\n",
       "    <tr>\n",
       "      <th>Clarithromycin</th>\n",
       "      <td>4</td>\n",
       "      <td>I</td>\n",
       "      <td>9.0</td>\n",
       "      <td>0.0</td>\n",
       "      <td>0.0</td>\n",
       "    </tr>\n",
       "    <tr>\n",
       "      <th>Clarithromycin</th>\n",
       "      <td>&gt;32</td>\n",
       "      <td>R</td>\n",
       "      <td>7.0</td>\n",
       "      <td>0.0</td>\n",
       "      <td>1.0</td>\n",
       "    </tr>\n",
       "  </tbody>\n",
       "</table>\n",
       "</div>"
      ],
      "text/plain": [
       "                  MIC Interpretation   MAB  MBOL  MMAS\n",
       "Drug                                                  \n",
       "Clarithromycin  ≤0.25              S  32.0   1.0  19.0\n",
       "Clarithromycin    0.5              S  13.0   1.0   1.0\n",
       "Clarithromycin      1              S  15.0   1.0   2.0\n",
       "Clarithromycin      2              S  13.0   0.0   0.0\n",
       "Clarithromycin      4              I   9.0   0.0   0.0\n",
       "Clarithromycin    >32              R   7.0   0.0   1.0"
      ]
     },
     "execution_count": 41,
     "metadata": {},
     "output_type": "execute_result"
    }
   ],
   "source": [
    "clr = df_unique_pt.groupby(['MIC_CLR', 'CLR_int'])['WGS_Identification'].value_counts().unstack()\n",
    "clr.reset_index(inplace=True)\n",
    "clr.columns.name = None\n",
    "clr.rename({'MIC_CLR': 'MIC', \n",
    "            'CLR_int': 'Interpretation'}, \n",
    "           axis=1, inplace=True)\n",
    "clr.index = ['Clarithromycin'] * clr.shape[0]\n",
    "clr.index.name = 'Drug'\n",
    "clr.fillna(0, inplace=True)\n",
    "clr"
   ]
  },
  {
   "cell_type": "code",
   "execution_count": 42,
   "id": "3fbf40e1",
   "metadata": {
    "scrolled": true
   },
   "outputs": [
    {
     "data": {
      "text/html": [
       "<div>\n",
       "<style scoped>\n",
       "    .dataframe tbody tr th:only-of-type {\n",
       "        vertical-align: middle;\n",
       "    }\n",
       "\n",
       "    .dataframe tbody tr th {\n",
       "        vertical-align: top;\n",
       "    }\n",
       "\n",
       "    .dataframe thead th {\n",
       "        text-align: right;\n",
       "    }\n",
       "</style>\n",
       "<table border=\"1\" class=\"dataframe\">\n",
       "  <thead>\n",
       "    <tr style=\"text-align: right;\">\n",
       "      <th></th>\n",
       "      <th>MIC</th>\n",
       "      <th>Interpretation</th>\n",
       "      <th>MAB n=189</th>\n",
       "      <th>MBOL n=5</th>\n",
       "      <th>MMAS n=31</th>\n",
       "    </tr>\n",
       "    <tr>\n",
       "      <th>Drug</th>\n",
       "      <th></th>\n",
       "      <th></th>\n",
       "      <th></th>\n",
       "      <th></th>\n",
       "      <th></th>\n",
       "    </tr>\n",
       "  </thead>\n",
       "  <tbody>\n",
       "    <tr>\n",
       "      <th>Amikacin</th>\n",
       "      <td>≤8.0</td>\n",
       "      <td>S</td>\n",
       "      <td>45.0</td>\n",
       "      <td>1.0</td>\n",
       "      <td>7.0</td>\n",
       "    </tr>\n",
       "    <tr>\n",
       "      <th>Amikacin</th>\n",
       "      <td>16</td>\n",
       "      <td>S</td>\n",
       "      <td>32.0</td>\n",
       "      <td>1.0</td>\n",
       "      <td>15.0</td>\n",
       "    </tr>\n",
       "    <tr>\n",
       "      <th>Amikacin</th>\n",
       "      <td>32</td>\n",
       "      <td>I</td>\n",
       "      <td>3.0</td>\n",
       "      <td>0.0</td>\n",
       "      <td>1.0</td>\n",
       "    </tr>\n",
       "    <tr>\n",
       "      <th>Amikacin</th>\n",
       "      <td>&gt;64</td>\n",
       "      <td>R</td>\n",
       "      <td>9.0</td>\n",
       "      <td>1.0</td>\n",
       "      <td>0.0</td>\n",
       "    </tr>\n",
       "    <tr>\n",
       "      <th>Clarithromycin</th>\n",
       "      <td>≤0.25</td>\n",
       "      <td>S</td>\n",
       "      <td>32.0</td>\n",
       "      <td>1.0</td>\n",
       "      <td>19.0</td>\n",
       "    </tr>\n",
       "    <tr>\n",
       "      <th>Clarithromycin</th>\n",
       "      <td>0.5</td>\n",
       "      <td>S</td>\n",
       "      <td>13.0</td>\n",
       "      <td>1.0</td>\n",
       "      <td>1.0</td>\n",
       "    </tr>\n",
       "    <tr>\n",
       "      <th>Clarithromycin</th>\n",
       "      <td>1</td>\n",
       "      <td>S</td>\n",
       "      <td>15.0</td>\n",
       "      <td>1.0</td>\n",
       "      <td>2.0</td>\n",
       "    </tr>\n",
       "    <tr>\n",
       "      <th>Clarithromycin</th>\n",
       "      <td>2</td>\n",
       "      <td>S</td>\n",
       "      <td>13.0</td>\n",
       "      <td>0.0</td>\n",
       "      <td>0.0</td>\n",
       "    </tr>\n",
       "    <tr>\n",
       "      <th>Clarithromycin</th>\n",
       "      <td>4</td>\n",
       "      <td>I</td>\n",
       "      <td>9.0</td>\n",
       "      <td>0.0</td>\n",
       "      <td>0.0</td>\n",
       "    </tr>\n",
       "    <tr>\n",
       "      <th>Clarithromycin</th>\n",
       "      <td>&gt;32</td>\n",
       "      <td>R</td>\n",
       "      <td>7.0</td>\n",
       "      <td>0.0</td>\n",
       "      <td>1.0</td>\n",
       "    </tr>\n",
       "  </tbody>\n",
       "</table>\n",
       "</div>"
      ],
      "text/plain": [
       "                  MIC Interpretation  MAB n=189  MBOL n=5  MMAS n=31\n",
       "Drug                                                                \n",
       "Amikacin         ≤8.0              S       45.0       1.0        7.0\n",
       "Amikacin           16              S       32.0       1.0       15.0\n",
       "Amikacin           32              I        3.0       0.0        1.0\n",
       "Amikacin          >64              R        9.0       1.0        0.0\n",
       "Clarithromycin  ≤0.25              S       32.0       1.0       19.0\n",
       "Clarithromycin    0.5              S       13.0       1.0        1.0\n",
       "Clarithromycin      1              S       15.0       1.0        2.0\n",
       "Clarithromycin      2              S       13.0       0.0        0.0\n",
       "Clarithromycin      4              I        9.0       0.0        0.0\n",
       "Clarithromycin    >32              R        7.0       0.0        1.0"
      ]
     },
     "execution_count": 42,
     "metadata": {},
     "output_type": "execute_result"
    }
   ],
   "source": [
    "table_1 = pd.concat([amk, clr])\n",
    "\n",
    "for organism in table_1.columns[2:]:\n",
    "    org_count = df[\"WGS_Identification\"].value_counts()[organism]\n",
    "    table_1.rename({organism: organism + f' n={int(org_count)}'}, \n",
    "                   axis=1, inplace=True)\n",
    "    \n",
    "table_1"
   ]
  },
  {
   "cell_type": "markdown",
   "id": "d669267d",
   "metadata": {},
   "source": [
    "### 5.2) Genotypic summary"
   ]
  },
  {
   "cell_type": "code",
   "execution_count": 43,
   "id": "6a573473",
   "metadata": {},
   "outputs": [
    {
     "data": {
      "text/html": [
       "<div>\n",
       "<style scoped>\n",
       "    .dataframe tbody tr th:only-of-type {\n",
       "        vertical-align: middle;\n",
       "    }\n",
       "\n",
       "    .dataframe tbody tr th {\n",
       "        vertical-align: top;\n",
       "    }\n",
       "\n",
       "    .dataframe thead th {\n",
       "        text-align: right;\n",
       "    }\n",
       "</style>\n",
       "<table border=\"1\" class=\"dataframe\">\n",
       "  <thead>\n",
       "    <tr style=\"text-align: right;\">\n",
       "      <th></th>\n",
       "      <th>Genotype</th>\n",
       "      <th>Prediction</th>\n",
       "      <th>MAB</th>\n",
       "      <th>MBOL</th>\n",
       "      <th>MMAS</th>\n",
       "    </tr>\n",
       "    <tr>\n",
       "      <th>Gene_Position</th>\n",
       "      <th></th>\n",
       "      <th></th>\n",
       "      <th></th>\n",
       "      <th></th>\n",
       "      <th></th>\n",
       "    </tr>\n",
       "  </thead>\n",
       "  <tbody>\n",
       "    <tr>\n",
       "      <th>rrs_1408</th>\n",
       "      <td>A</td>\n",
       "      <td>Not resistant</td>\n",
       "      <td>80.0</td>\n",
       "      <td>2.0</td>\n",
       "      <td>23.0</td>\n",
       "    </tr>\n",
       "    <tr>\n",
       "      <th>rrs_1408</th>\n",
       "      <td>G</td>\n",
       "      <td>Resistant</td>\n",
       "      <td>9.0</td>\n",
       "      <td>1.0</td>\n",
       "      <td>0.0</td>\n",
       "    </tr>\n",
       "  </tbody>\n",
       "</table>\n",
       "</div>"
      ],
      "text/plain": [
       "              Genotype     Prediction   MAB  MBOL  MMAS\n",
       "Gene_Position                                          \n",
       "rrs_1408             A  Not resistant  80.0   2.0  23.0\n",
       "rrs_1408             G      Resistant   9.0   1.0   0.0"
      ]
     },
     "execution_count": 43,
     "metadata": {},
     "output_type": "execute_result"
    }
   ],
   "source": [
    "rrs = df_unique_pt.groupby(['rrs_1408', 'rrs_prediction'])['WGS_Identification'].value_counts().unstack()\n",
    "rrs.columns.name = None\n",
    "rrs.reset_index(inplace=True), \n",
    "rrs.rename({'rrs_prediction': 'Prediction', \n",
    "            'rrs_1408': 'Genotype'}, axis=1, inplace=True)\n",
    "rrs.fillna(0, inplace=True)\n",
    "rrs.index = ['rrs_1408'] * rrs.shape[0]\n",
    "rrs.index.name = 'Gene_Position'\n",
    "rrs"
   ]
  },
  {
   "cell_type": "code",
   "execution_count": 44,
   "id": "3ec4073d",
   "metadata": {},
   "outputs": [
    {
     "data": {
      "text/html": [
       "<div>\n",
       "<style scoped>\n",
       "    .dataframe tbody tr th:only-of-type {\n",
       "        vertical-align: middle;\n",
       "    }\n",
       "\n",
       "    .dataframe tbody tr th {\n",
       "        vertical-align: top;\n",
       "    }\n",
       "\n",
       "    .dataframe thead th {\n",
       "        text-align: right;\n",
       "    }\n",
       "</style>\n",
       "<table border=\"1\" class=\"dataframe\">\n",
       "  <thead>\n",
       "    <tr style=\"text-align: right;\">\n",
       "      <th></th>\n",
       "      <th>Genotype</th>\n",
       "      <th>Prediction</th>\n",
       "      <th>MAB</th>\n",
       "      <th>MBOL</th>\n",
       "      <th>MMAS</th>\n",
       "    </tr>\n",
       "    <tr>\n",
       "      <th>Gene_Position</th>\n",
       "      <th></th>\n",
       "      <th></th>\n",
       "      <th></th>\n",
       "      <th></th>\n",
       "      <th></th>\n",
       "    </tr>\n",
       "  </thead>\n",
       "  <tbody>\n",
       "    <tr>\n",
       "      <th>rrl_2058_2059</th>\n",
       "      <td>AA</td>\n",
       "      <td>Not resistant</td>\n",
       "      <td>83.0</td>\n",
       "      <td>3.0</td>\n",
       "      <td>22.0</td>\n",
       "    </tr>\n",
       "    <tr>\n",
       "      <th>rrl_2058_2059</th>\n",
       "      <td>AC</td>\n",
       "      <td>Resistant</td>\n",
       "      <td>1.0</td>\n",
       "      <td>0.0</td>\n",
       "      <td>0.0</td>\n",
       "    </tr>\n",
       "    <tr>\n",
       "      <th>rrl_2058_2059</th>\n",
       "      <td>CA</td>\n",
       "      <td>Resistant</td>\n",
       "      <td>3.0</td>\n",
       "      <td>0.0</td>\n",
       "      <td>1.0</td>\n",
       "    </tr>\n",
       "    <tr>\n",
       "      <th>rrl_2058_2059</th>\n",
       "      <td>GA</td>\n",
       "      <td>Resistant</td>\n",
       "      <td>2.0</td>\n",
       "      <td>0.0</td>\n",
       "      <td>0.0</td>\n",
       "    </tr>\n",
       "  </tbody>\n",
       "</table>\n",
       "</div>"
      ],
      "text/plain": [
       "              Genotype     Prediction   MAB  MBOL  MMAS\n",
       "Gene_Position                                          \n",
       "rrl_2058_2059       AA  Not resistant  83.0   3.0  22.0\n",
       "rrl_2058_2059       AC      Resistant   1.0   0.0   0.0\n",
       "rrl_2058_2059       CA      Resistant   3.0   0.0   1.0\n",
       "rrl_2058_2059       GA      Resistant   2.0   0.0   0.0"
      ]
     },
     "execution_count": 44,
     "metadata": {},
     "output_type": "execute_result"
    }
   ],
   "source": [
    "rrl = df_unique_pt.groupby(['rrl_2058_2059', 'rrl_prediction'])['WGS_Identification'].value_counts().unstack()\n",
    "rrl.columns.name = None\n",
    "rrl.reset_index(inplace=True), \n",
    "rrl.rename({'rrl_prediction': 'Prediction', \n",
    "            'rrl_2058_2059': 'Genotype'}, axis=1, inplace=True)\n",
    "rrl.fillna(0, inplace=True)\n",
    "rrl.index = ['rrl_2058_2059'] * rrl.shape[0]\n",
    "rrl.index.name = 'Gene_Position'\n",
    "rrl"
   ]
  },
  {
   "cell_type": "code",
   "execution_count": 45,
   "id": "62ae989c",
   "metadata": {
    "scrolled": true
   },
   "outputs": [
    {
     "data": {
      "text/html": [
       "<div>\n",
       "<style scoped>\n",
       "    .dataframe tbody tr th:only-of-type {\n",
       "        vertical-align: middle;\n",
       "    }\n",
       "\n",
       "    .dataframe tbody tr th {\n",
       "        vertical-align: top;\n",
       "    }\n",
       "\n",
       "    .dataframe thead th {\n",
       "        text-align: right;\n",
       "    }\n",
       "</style>\n",
       "<table border=\"1\" class=\"dataframe\">\n",
       "  <thead>\n",
       "    <tr style=\"text-align: right;\">\n",
       "      <th></th>\n",
       "      <th>Genotype</th>\n",
       "      <th>Prediction</th>\n",
       "      <th>MAB n=189</th>\n",
       "      <th>MBOL n=5</th>\n",
       "      <th>MMAS n=31</th>\n",
       "    </tr>\n",
       "    <tr>\n",
       "      <th>Gene_Position</th>\n",
       "      <th></th>\n",
       "      <th></th>\n",
       "      <th></th>\n",
       "      <th></th>\n",
       "      <th></th>\n",
       "    </tr>\n",
       "  </thead>\n",
       "  <tbody>\n",
       "    <tr>\n",
       "      <th>rrs_1408</th>\n",
       "      <td>A</td>\n",
       "      <td>Not resistant</td>\n",
       "      <td>80.0</td>\n",
       "      <td>2.0</td>\n",
       "      <td>23.0</td>\n",
       "    </tr>\n",
       "    <tr>\n",
       "      <th>rrs_1408</th>\n",
       "      <td>G</td>\n",
       "      <td>Resistant</td>\n",
       "      <td>9.0</td>\n",
       "      <td>1.0</td>\n",
       "      <td>0.0</td>\n",
       "    </tr>\n",
       "    <tr>\n",
       "      <th>rrl_2058_2059</th>\n",
       "      <td>AA</td>\n",
       "      <td>Not resistant</td>\n",
       "      <td>83.0</td>\n",
       "      <td>3.0</td>\n",
       "      <td>22.0</td>\n",
       "    </tr>\n",
       "    <tr>\n",
       "      <th>rrl_2058_2059</th>\n",
       "      <td>AC</td>\n",
       "      <td>Resistant</td>\n",
       "      <td>1.0</td>\n",
       "      <td>0.0</td>\n",
       "      <td>0.0</td>\n",
       "    </tr>\n",
       "    <tr>\n",
       "      <th>rrl_2058_2059</th>\n",
       "      <td>CA</td>\n",
       "      <td>Resistant</td>\n",
       "      <td>3.0</td>\n",
       "      <td>0.0</td>\n",
       "      <td>1.0</td>\n",
       "    </tr>\n",
       "    <tr>\n",
       "      <th>rrl_2058_2059</th>\n",
       "      <td>GA</td>\n",
       "      <td>Resistant</td>\n",
       "      <td>2.0</td>\n",
       "      <td>0.0</td>\n",
       "      <td>0.0</td>\n",
       "    </tr>\n",
       "  </tbody>\n",
       "</table>\n",
       "</div>"
      ],
      "text/plain": [
       "              Genotype     Prediction  MAB n=189  MBOL n=5  MMAS n=31\n",
       "Gene_Position                                                        \n",
       "rrs_1408             A  Not resistant       80.0       2.0       23.0\n",
       "rrs_1408             G      Resistant        9.0       1.0        0.0\n",
       "rrl_2058_2059       AA  Not resistant       83.0       3.0       22.0\n",
       "rrl_2058_2059       AC      Resistant        1.0       0.0        0.0\n",
       "rrl_2058_2059       CA      Resistant        3.0       0.0        1.0\n",
       "rrl_2058_2059       GA      Resistant        2.0       0.0        0.0"
      ]
     },
     "execution_count": 45,
     "metadata": {},
     "output_type": "execute_result"
    }
   ],
   "source": [
    "table_2 = pd.concat([rrs, rrl])\n",
    "\n",
    "for organism in table_2.columns[2:]:\n",
    "    org_count = df[\"WGS_Identification\"].value_counts()[organism]\n",
    "    table_2.rename({organism: organism + f' n={int(org_count)}'}, \n",
    "                   axis=1, inplace=True)\n",
    "\n",
    "table_2"
   ]
  },
  {
   "cell_type": "code",
   "execution_count": 46,
   "id": "1d7d72f4",
   "metadata": {},
   "outputs": [
    {
     "data": {
      "text/html": [
       "<div>\n",
       "<style scoped>\n",
       "    .dataframe tbody tr th:only-of-type {\n",
       "        vertical-align: middle;\n",
       "    }\n",
       "\n",
       "    .dataframe tbody tr th {\n",
       "        vertical-align: top;\n",
       "    }\n",
       "\n",
       "    .dataframe thead th {\n",
       "        text-align: right;\n",
       "    }\n",
       "</style>\n",
       "<table border=\"1\" class=\"dataframe\">\n",
       "  <thead>\n",
       "    <tr style=\"text-align: right;\">\n",
       "      <th></th>\n",
       "      <th>rrl_2058_2059</th>\n",
       "      <th>erm41_28</th>\n",
       "      <th>MAB</th>\n",
       "      <th>MBOL</th>\n",
       "    </tr>\n",
       "  </thead>\n",
       "  <tbody>\n",
       "    <tr>\n",
       "      <th>0</th>\n",
       "      <td>AA</td>\n",
       "      <td>C</td>\n",
       "      <td>6.0</td>\n",
       "      <td>0.0</td>\n",
       "    </tr>\n",
       "    <tr>\n",
       "      <th>1</th>\n",
       "      <td>AA</td>\n",
       "      <td>T</td>\n",
       "      <td>77.0</td>\n",
       "      <td>3.0</td>\n",
       "    </tr>\n",
       "    <tr>\n",
       "      <th>2</th>\n",
       "      <td>AC</td>\n",
       "      <td>C</td>\n",
       "      <td>1.0</td>\n",
       "      <td>0.0</td>\n",
       "    </tr>\n",
       "    <tr>\n",
       "      <th>3</th>\n",
       "      <td>CA</td>\n",
       "      <td>C</td>\n",
       "      <td>1.0</td>\n",
       "      <td>0.0</td>\n",
       "    </tr>\n",
       "    <tr>\n",
       "      <th>4</th>\n",
       "      <td>CA</td>\n",
       "      <td>T</td>\n",
       "      <td>2.0</td>\n",
       "      <td>0.0</td>\n",
       "    </tr>\n",
       "    <tr>\n",
       "      <th>5</th>\n",
       "      <td>GA</td>\n",
       "      <td>T</td>\n",
       "      <td>2.0</td>\n",
       "      <td>0.0</td>\n",
       "    </tr>\n",
       "  </tbody>\n",
       "</table>\n",
       "</div>"
      ],
      "text/plain": [
       "  rrl_2058_2059 erm41_28   MAB  MBOL\n",
       "0            AA        C   6.0   0.0\n",
       "1            AA        T  77.0   3.0\n",
       "2            AC        C   1.0   0.0\n",
       "3            CA        C   1.0   0.0\n",
       "4            CA        T   2.0   0.0\n",
       "5            GA        T   2.0   0.0"
      ]
     },
     "execution_count": 46,
     "metadata": {},
     "output_type": "execute_result"
    }
   ],
   "source": [
    "subsp_filter = df_unique_pt['WGS_Identification'] != 'MMAS'\n",
    "table3 = df_unique_pt[subsp_filter].groupby(['rrl_2058_2059', 'erm41_28'])\n",
    "table3 = table3['WGS_Identification'].value_counts().unstack()\n",
    "table3.reset_index(inplace=True)\n",
    "table3.fillna(0, inplace=True)\n",
    "table3.columns.name = None\n",
    "table3"
   ]
  },
  {
   "attachments": {},
   "cell_type": "markdown",
   "id": "15a1d1ab",
   "metadata": {},
   "source": [
    "### 5.3) Dominant clone analysis\n",
    "Research question: Is the frequency of antimicrobial resistance genotypes different in dominant circulating clones (DCC) of *M. abscessus* ?\n",
    "\n",
    "- Null hypothesis (H0): There's no difference in drug resistance between DCC and non-DCC.\n",
    "- Alternative hypothesis (H1): 'There's difference in drug resistance between DCC and non-DCC.\n",
    "\n",
    "A phylogenetic tree was labeled using ggtree and additional statistical analyses were also done using R:\n",
    "- See 'Analysis_DR_mutations_MAB.html'"
   ]
  },
  {
   "cell_type": "code",
   "execution_count": 47,
   "id": "daa67b7e",
   "metadata": {},
   "outputs": [],
   "source": [
    "from scipy.stats import fisher_exact"
   ]
  },
  {
   "cell_type": "code",
   "execution_count": 48,
   "id": "8f8f6ed0",
   "metadata": {},
   "outputs": [
    {
     "name": "stdout",
     "output_type": "stream",
     "text": [
      "1.4906417276255767e-14\n",
      "Reject H0\n",
      "\n",
      "1.0\n",
      "Fail to reject H0\n"
     ]
    }
   ],
   "source": [
    "def get_fisher_summary(fisher, sig):\n",
    "    print(fisher.pvalue)\n",
    "    if fisher.pvalue < sig:\n",
    "        print('Reject H0')\n",
    "    else: print('Fail to reject H0')\n",
    "        \n",
    "# Testing get_fisher_summary()\n",
    "fisher1 = fisher_exact([[40, 4], [2, 30]])\n",
    "get_fisher_summary(fisher1, 0.05)\n",
    "print('')\n",
    "fisher2 = fisher_exact([[30, 20], [29, 19]])\n",
    "get_fisher_summary(fisher2, 0.05)"
   ]
  },
  {
   "cell_type": "code",
   "execution_count": 49,
   "id": "5d768117",
   "metadata": {},
   "outputs": [
    {
     "data": {
      "text/plain": [
       "DCC        54\n",
       "Non-DCC    35\n",
       "Name: Clone, dtype: int64"
      ]
     },
     "execution_count": 49,
     "metadata": {},
     "output_type": "execute_result"
    }
   ],
   "source": [
    "# Classifying Dominant Clones in M. abscessus subsp. abscessus\n",
    "df_pt_mab = df_unique_pt[df_unique_pt['WGS_Identification'] == 'MAB'].copy()\n",
    "clone_dict = {'MAB.clone001': 'DCC', \n",
    "              'MAB.clone002': 'DCC'}\n",
    "df_pt_mab['Clone'] = df_pt_mab['Clone'].apply(lambda x: clone_dict.get(x, 'Non-DCC'))\n",
    "df_pt_mab['Clone'].value_counts()"
   ]
  },
  {
   "cell_type": "markdown",
   "id": "9b5622ab",
   "metadata": {},
   "source": [
    "#### rrs drug resistance genotypes "
   ]
  },
  {
   "cell_type": "code",
   "execution_count": 56,
   "id": "ec37ed5e",
   "metadata": {},
   "outputs": [
    {
     "name": "stdout",
     "output_type": "stream",
     "text": [
      "0.08290797261085056\n",
      "Fail to reject H0\n"
     ]
    },
    {
     "data": {
      "text/html": [
       "<div>\n",
       "<style scoped>\n",
       "    .dataframe tbody tr th:only-of-type {\n",
       "        vertical-align: middle;\n",
       "    }\n",
       "\n",
       "    .dataframe tbody tr th {\n",
       "        vertical-align: top;\n",
       "    }\n",
       "\n",
       "    .dataframe thead th {\n",
       "        text-align: right;\n",
       "    }\n",
       "</style>\n",
       "<table border=\"1\" class=\"dataframe\">\n",
       "  <thead>\n",
       "    <tr style=\"text-align: right;\">\n",
       "      <th>rrs_prediction</th>\n",
       "      <th>Resistant</th>\n",
       "      <th>Not resistant</th>\n",
       "    </tr>\n",
       "    <tr>\n",
       "      <th>Clone</th>\n",
       "      <th></th>\n",
       "      <th></th>\n",
       "    </tr>\n",
       "  </thead>\n",
       "  <tbody>\n",
       "    <tr>\n",
       "      <th>DCC</th>\n",
       "      <td>8</td>\n",
       "      <td>46</td>\n",
       "    </tr>\n",
       "    <tr>\n",
       "      <th>Non-DCC</th>\n",
       "      <td>1</td>\n",
       "      <td>34</td>\n",
       "    </tr>\n",
       "  </tbody>\n",
       "</table>\n",
       "</div>"
      ],
      "text/plain": [
       "rrs_prediction  Resistant  Not resistant\n",
       "Clone                                   \n",
       "DCC                     8             46\n",
       "Non-DCC                 1             34"
      ]
     },
     "execution_count": 56,
     "metadata": {},
     "output_type": "execute_result"
    }
   ],
   "source": [
    "rrs_cont_table = df_pt_mab.groupby(['Clone'])['rrs_prediction'].value_counts().unstack()\n",
    "rrs_cont_table = rrs_cont_table.reindex(['Resistant', 'Not resistant'], axis=1)\n",
    "fisher_rrs = fisher_exact(rrs_cont_table, alternative='two-sided')\n",
    "get_fisher_summary(fisher_rrs, 0.05)\n",
    "rrs_cont_table"
   ]
  },
  {
   "cell_type": "markdown",
   "id": "fde21db9",
   "metadata": {},
   "source": [
    "#### rrl drug resistance genotypes"
   ]
  },
  {
   "cell_type": "code",
   "execution_count": 51,
   "id": "de2f6f0f",
   "metadata": {},
   "outputs": [
    {
     "name": "stdout",
     "output_type": "stream",
     "text": [
      "1.0\n",
      "Fail to reject H0\n"
     ]
    },
    {
     "data": {
      "text/html": [
       "<div>\n",
       "<style scoped>\n",
       "    .dataframe tbody tr th:only-of-type {\n",
       "        vertical-align: middle;\n",
       "    }\n",
       "\n",
       "    .dataframe tbody tr th {\n",
       "        vertical-align: top;\n",
       "    }\n",
       "\n",
       "    .dataframe thead th {\n",
       "        text-align: right;\n",
       "    }\n",
       "</style>\n",
       "<table border=\"1\" class=\"dataframe\">\n",
       "  <thead>\n",
       "    <tr style=\"text-align: right;\">\n",
       "      <th>rrl_prediction</th>\n",
       "      <th>Resistant</th>\n",
       "      <th>Not resistant</th>\n",
       "    </tr>\n",
       "    <tr>\n",
       "      <th>Clone</th>\n",
       "      <th></th>\n",
       "      <th></th>\n",
       "    </tr>\n",
       "  </thead>\n",
       "  <tbody>\n",
       "    <tr>\n",
       "      <th>DCC</th>\n",
       "      <td>4</td>\n",
       "      <td>50</td>\n",
       "    </tr>\n",
       "    <tr>\n",
       "      <th>Non-DCC</th>\n",
       "      <td>2</td>\n",
       "      <td>33</td>\n",
       "    </tr>\n",
       "  </tbody>\n",
       "</table>\n",
       "</div>"
      ],
      "text/plain": [
       "rrl_prediction  Resistant  Not resistant\n",
       "Clone                                   \n",
       "DCC                     4             50\n",
       "Non-DCC                 2             33"
      ]
     },
     "execution_count": 51,
     "metadata": {},
     "output_type": "execute_result"
    }
   ],
   "source": [
    "rrl_cont_table = df_pt_mab.groupby(['Clone'])['rrl_prediction'].value_counts().unstack()\n",
    "rrl_cont_table = rrl_cont_table.reindex(['Resistant', 'Not resistant'], axis=1)\n",
    "fisher_rrl = fisher_exact(rrl_cont_table, alternative='two-sided')\n",
    "get_fisher_summary(fisher_rrl, 0.05)\n",
    "rrs_cont_table"
   ]
  },
  {
   "cell_type": "markdown",
   "id": "d1f09a68",
   "metadata": {},
   "source": [
    "#### erm(41) drug resistance genotypes"
   ]
  },
  {
   "cell_type": "code",
   "execution_count": 52,
   "id": "cde26aea",
   "metadata": {},
   "outputs": [
    {
     "name": "stdout",
     "output_type": "stream",
     "text": [
      "0.00033324935551955\n",
      "Reject H0\n"
     ]
    },
    {
     "data": {
      "text/html": [
       "<div>\n",
       "<style scoped>\n",
       "    .dataframe tbody tr th:only-of-type {\n",
       "        vertical-align: middle;\n",
       "    }\n",
       "\n",
       "    .dataframe tbody tr th {\n",
       "        vertical-align: top;\n",
       "    }\n",
       "\n",
       "    .dataframe thead th {\n",
       "        text-align: right;\n",
       "    }\n",
       "</style>\n",
       "<table border=\"1\" class=\"dataframe\">\n",
       "  <thead>\n",
       "    <tr style=\"text-align: right;\">\n",
       "      <th>erm41_28</th>\n",
       "      <th>T</th>\n",
       "      <th>C</th>\n",
       "    </tr>\n",
       "    <tr>\n",
       "      <th>Clone</th>\n",
       "      <th></th>\n",
       "      <th></th>\n",
       "    </tr>\n",
       "  </thead>\n",
       "  <tbody>\n",
       "    <tr>\n",
       "      <th>DCC</th>\n",
       "      <td>54.0</td>\n",
       "      <td>0.0</td>\n",
       "    </tr>\n",
       "    <tr>\n",
       "      <th>Non-DCC</th>\n",
       "      <td>27.0</td>\n",
       "      <td>8.0</td>\n",
       "    </tr>\n",
       "  </tbody>\n",
       "</table>\n",
       "</div>"
      ],
      "text/plain": [
       "erm41_28     T    C\n",
       "Clone              \n",
       "DCC       54.0  0.0\n",
       "Non-DCC   27.0  8.0"
      ]
     },
     "execution_count": 52,
     "metadata": {},
     "output_type": "execute_result"
    }
   ],
   "source": [
    "erm_cont_table = df_pt_mab.groupby(['Clone'])['erm41_28'].value_counts().unstack()\n",
    "erm_cont_table = erm_cont_table.reindex(['T', 'C'], axis=1)\n",
    "erm_cont_table.fillna(0, inplace=True)\n",
    "fisher_erm = fisher_exact(erm_cont_table, alternative='two-sided')\n",
    "get_fisher_summary(fisher_erm, 0.05)\n",
    "erm_cont_table"
   ]
  }
 ],
 "metadata": {
  "kernelspec": {
   "display_name": "Python 3 (ipykernel)",
   "language": "python",
   "name": "python3"
  },
  "language_info": {
   "codemirror_mode": {
    "name": "ipython",
    "version": 3
   },
   "file_extension": ".py",
   "mimetype": "text/x-python",
   "name": "python",
   "nbconvert_exporter": "python",
   "pygments_lexer": "ipython3",
   "version": "3.10.8"
  }
 },
 "nbformat": 4,
 "nbformat_minor": 5
}
